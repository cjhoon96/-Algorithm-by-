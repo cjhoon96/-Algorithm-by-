{
 "cells": [
  {
   "cell_type": "markdown",
   "metadata": {},
   "source": [
    "# 그리디 알고리즘\n",
    "### * 그리디 알고리즘(탐욕법)은 현재 상황에서 지금 당장 좋은 것만 고르는 방법을 의미한다.\n",
    "### * 일반적인 그리디 알고리즘은 문제를 풀기 위한 최소한의 아이디어를 떠올릴 수 있는 능력을 요구한다.\n",
    "### * 그리디 해법은 그 정당성 분석이 중요다.\n",
    "    * 단순히 가장 좋아 보이는 것을 반복적으로 선택해도 최적의 해를 구할 수 있는지 검토가 필요"
   ]
  },
  {
   "cell_type": "markdown",
   "metadata": {},
   "source": [
    "#### * 일반적인 상황에서 그리디 알고리즘은 최적의 해를 보장 할 수 없을 때가 많음\n",
    "#### * 하지만 코딩 테스트에서의 대부분의 그리디 문제는 탐욕법으로 얻은 해가 최적의 해가 되는 상황에서, 이를 추론 할 수 있어야 풀리도록 출제됨"
   ]
  },
  {
   "cell_type": "markdown",
   "metadata": {},
   "source": []
  },
  {
   "cell_type": "markdown",
   "metadata": {},
   "source": []
  },
  {
   "cell_type": "markdown",
   "metadata": {},
   "source": []
  },
  {
   "cell_type": "markdown",
   "metadata": {},
   "source": []
  },
  {
   "cell_type": "markdown",
   "metadata": {},
   "source": [
    "# 예시 문제\n",
    "\n",
    "## 당신은 음식점의 계산을 도와주는 점원입니다.  \n",
    "## 카운터에는 거스름돈으로 사용할 500원, 100원, 50원, 10원짜리 동전이 무한히 존재한다고 가정합니다.  \n",
    "## 손님에게 거슬러 주어야 할 돈이 N원일때 거슬러 주어야 할 동전의 최소 개수를 구하시오"
   ]
  },
  {
   "cell_type": "markdown",
   "metadata": {},
   "source": [
    "* ### 가장 큰 화폐부터 돈을 거슬러 주는 것이 최적의 해를 보장하는 이유는 무었일까?\n",
    "    * 가지고 있는 동전 중에서 큰 단위가 항상 작은 단위의 배수이므로 작은 단위의 동전들을 종합해 다른 해가 나올 수 없다.!!!!!\n",
    "* ### 만약에 800원을 거슬러 주어야 하는데 단위가 500, 400, 100 이라면?\n",
    "    * 그리디로 풀 수 없다.\n",
    "\n",
    "* ### 그리디 알고리즘 문제에서는 이처럼 문제 풀이를 위한 최소한의 아이디어를 떠올리고 이것이 정단한지 검토할 수 있어야 한다."
   ]
  },
  {
   "cell_type": "code",
   "execution_count": 9,
   "metadata": {},
   "outputs": [
    {
     "name": "stdin",
     "output_type": "stream",
     "text": [
      " 1260\n"
     ]
    },
    {
     "name": "stdout",
     "output_type": "stream",
     "text": [
      "6\n"
     ]
    }
   ],
   "source": [
    "n=int(input())\n",
    "\n",
    "array = [500, 100, 50, 10]\n",
    "\n",
    "count = 0\n",
    "for coin in array:\n",
    "    count+= n//coin\n",
    "    n %= coin\n",
    "\n",
    "print(count)"
   ]
  },
  {
   "cell_type": "markdown",
   "metadata": {},
   "source": [
    "## 분석\n",
    "#### 시간 복잡도는 화폐단위수=K 일때 O(K)이다.\n",
    "#### 즉 거슬러줘야 하는 돈의 크기와 무관하다."
   ]
  },
  {
   "cell_type": "markdown",
   "metadata": {},
   "source": []
  },
  {
   "cell_type": "markdown",
   "metadata": {},
   "source": []
  },
  {
   "cell_type": "markdown",
   "metadata": {},
   "source": []
  },
  {
   "cell_type": "markdown",
   "metadata": {},
   "source": [
    "# ex 1) 1이 될 때 까지\n",
    "* ### 어떠한 수 N이 1이 될때까지 다음의 두 과정 중 하나를 반복적으로 선택하여 수행하려고 합니다. 단, 두 번째 연산은 N이 K로 나누어 떨어질 때만 선택할 수 있습니다.\n",
    "    1. N에서 1을 뺍니다.\n",
    "    2. N에서 K로 나눕니다.\n",
    "* ### 예를 들어 N이 17, K가 4라고 가정합시다. 이때 1번의 과정을 한번 수행하면 N은 16이 됩니다. 이후에 2번의 과정을 두번 수행하면 N은 1이 됩니다. 결과적으로 이 경우 전체 과정을 실행한 횟수는 3이 됩니다. 이는 N을 1로 만드는 최소 횟수입니다.\n",
    "* ### N과 K가 주어질 때 N이 1이 될 때 까지 1번 혹은 2번의 과정을 수행해야 하는 최소 횟수를 구하는 프로그램을 작성하시오"
   ]
  },
  {
   "cell_type": "code",
   "execution_count": 14,
   "metadata": {},
   "outputs": [
    {
     "name": "stdin",
     "output_type": "stream",
     "text": [
      " 25 5\n"
     ]
    },
    {
     "name": "stdout",
     "output_type": "stream",
     "text": [
      "2\n"
     ]
    }
   ],
   "source": [
    "n, k = map(int,input().split())\n",
    "\n",
    "count = 0\n",
    "\n",
    "while n!=1:\n",
    "    if n%k==0:\n",
    "        n //= k\n",
    "    else:\n",
    "        n -= 1\n",
    "    count += 1\n",
    "print(count)"
   ]
  },
  {
   "cell_type": "markdown",
   "metadata": {},
   "source": [
    "## 해결 아이디어 \n",
    "주어진 N에 대하여 최대한 많이 나누기를 수행하면 된다.\n",
    "N의 값을 줄일 때 2 이상의 수로 나누는 작업이 1을 빼는 작업보다 수를 훨씬 많이 줄일 수 있기 때문\n"
   ]
  },
  {
   "cell_type": "markdown",
   "metadata": {},
   "source": [
    "## 분석\n",
    "* 가능한면 최대한 많이 나누는 작업이 최적의 해를 항상 보장 할 수 있을까?\n",
    "* N이 아무리 큰 수 여도, K로 계속 나눈다면 기하급수적으로 빠르게 줄일 수 있습니다.\n",
    "* 다시 말해 K가 2 이상이기만 하면, K로 나누는 것이 1을 빼는 것보다 항상 빠르게 N을 줄일 수 있습니다.\n",
    "    * 또한 N은 항상 1에 도달 하게 됩니다. (최적의 해 성립)"
   ]
  },
  {
   "cell_type": "markdown",
   "metadata": {},
   "source": [
    "# 최적의 풀이 "
   ]
  },
  {
   "cell_type": "code",
   "execution_count": 20,
   "metadata": {},
   "outputs": [
    {
     "name": "stdin",
     "output_type": "stream",
     "text": [
      " 17 7\n"
     ]
    },
    {
     "name": "stdout",
     "output_type": "stream",
     "text": [
      "5\n"
     ]
    }
   ],
   "source": [
    "n, k = map(int,input().split())\n",
    "\n",
    "result = 0\n",
    "\n",
    "while True:\n",
    "    target = (n//k)*k\n",
    "    result += n-target + 1\n",
    "    n //= k\n",
    "    if n<k:\n",
    "        break\n",
    "        \n",
    "result += n-1\n",
    "\n",
    "print(result)\n"
   ]
  },
  {
   "cell_type": "markdown",
   "metadata": {},
   "source": [
    "## 시간 복잡도가 내 풀이보다 훨씬 줄어듬"
   ]
  },
  {
   "cell_type": "markdown",
   "metadata": {},
   "source": []
  },
  {
   "cell_type": "markdown",
   "metadata": {},
   "source": []
  },
  {
   "cell_type": "markdown",
   "metadata": {},
   "source": []
  },
  {
   "cell_type": "markdown",
   "metadata": {},
   "source": [
    "# ex2) 곱하기 혹은 더하기\n",
    "* ### 각 자리가 숫자(0부터 9)로만 이루어진 문자열 s 가 주어졌을때, 왼쪽부터 오른쪽으로 하나씩 모든 숫자를 확인하며 숫자 사이에 'x'혹은 '+' 연산자를 넣어 결과적으로 만들어 질 수 있는 가장 큰 수를 구하는 프로그램을 작성하세요\n",
    "    * 단 +보다 x를 먼저 계산하는 일반적인 방식과는 달리, 모든 연산은 왼쪽에서부터 순서대로 이루어진다고 가정\n",
    "    * 또한 만들어질 수 있는 가장 큰 수는 항상 20억 이하의 정수가 되도록 입력이 주어집니다.\n",
    "* ### 예를 들어 02984라는 문자열로 만들수 있는 가장 큰 수는 ((((0 + 2) x 9) x 8) x 4) = 576 입니다. \n",
    "    "
   ]
  },
  {
   "cell_type": "code",
   "execution_count": 24,
   "metadata": {},
   "outputs": [
    {
     "name": "stdin",
     "output_type": "stream",
     "text": [
      " 12345\n"
     ]
    },
    {
     "name": "stdout",
     "output_type": "stream",
     "text": [
      "120\n"
     ]
    }
   ],
   "source": [
    "s = input()\n",
    "\n",
    "if s[0] in ['0', '1']:\n",
    "    result = 0\n",
    "else:\n",
    "    result = 1\n",
    "\n",
    "for num in s:\n",
    "    if num not in ['0', '1'] and result!=0:\n",
    "        result *=int(num)\n",
    "    else:\n",
    "        result +=int(num)\n",
    "\n",
    "print(result)"
   ]
  },
  {
   "cell_type": "markdown",
   "metadata": {},
   "source": [
    "## 해결 아이디어\n",
    "대부분의 경우 더하기보다는 곱하기가 더욱 값을 크게 만든다.  \n",
    "예외의 경우: 0,1  \n",
    "예외의 경우에만 더하기를 한다."
   ]
  },
  {
   "cell_type": "markdown",
   "metadata": {},
   "source": []
  },
  {
   "cell_type": "markdown",
   "metadata": {},
   "source": []
  },
  {
   "cell_type": "markdown",
   "metadata": {},
   "source": []
  },
  {
   "cell_type": "markdown",
   "metadata": {},
   "source": [
    "# ex3) 모험가 길드\n",
    "* ### 한 마을에 모험가 n명이 있다. 모험가 길드에서는 n명의 모험가를 대상으로 '공포도'를 측정했는데, '공포도'가 높은 모험가는 쉽게 공포를 느껴 위험 상황에서 제대로 대처할 능력이 떨어진다.\n",
    "* ### 모험가 길드장인 동빈은 모험가 그룹을 안전하게 구성하고자 공포도가 x인 모험가는 반드시 x명 이상으로 구성한 모험가 그룹에 참여해야 여행을 떠날 수 있도록 규정하였다.\n",
    "* ### 동빈이는 최대 몇개의 모험가 그룹을 만들 수 있는지 궁금하다.\n",
    "    * 예로 n=5이고 공포도가 2 3 1 2 2 인 경우 1,2,3, 모험가 팀과 2,2 모험가 팀 2명을 만들 수도 있다.\n",
    "    * 또한 일부 모험가는 마을에 남아 있어도 상관 없다.\n",
    "    "
   ]
  },
  {
   "cell_type": "code",
   "execution_count": 25,
   "metadata": {},
   "outputs": [
    {
     "name": "stdin",
     "output_type": "stream",
     "text": [
      " 5\n",
      " 2 4 2 3 1\n"
     ]
    },
    {
     "name": "stdout",
     "output_type": "stream",
     "text": [
      "2\n"
     ]
    }
   ],
   "source": [
    "n=int(input())\n",
    "\n",
    "sc_list = list(map(int,input().split()))\n",
    "\n",
    "sc_list.sort()\n",
    "\n",
    "sc_dic={}\n",
    "\n",
    "for i in sc_list:\n",
    "    if i in sc_dic:\n",
    "        sc_dic[i] += 1\n",
    "    else:\n",
    "        sc_dic[i] = 1\n",
    "\n",
    "data = list(sc_dic.keys())\n",
    "data.sort()\n",
    "\n",
    "team = 0\n",
    "remain = 0\n",
    "for i in data:\n",
    "    team += (sc_dic[i]+remain)//i\n",
    "    remain = sc_dic[i]%i\n",
    "\n",
    "print(team)"
   ]
  },
  {
   "cell_type": "markdown",
   "metadata": {},
   "source": [
    "## 해결 아이디어\n",
    "공포도 리스트를 오름차순으로 솔트 한 후\n",
    "앞에서부터 '현재 그룹에 포함된 모험가 수'='현재 확인하고 있는 공포도 보다 크거나 같으면 그룹으로 추가한다."
   ]
  },
  {
   "cell_type": "code",
   "execution_count": 27,
   "metadata": {},
   "outputs": [
    {
     "name": "stdin",
     "output_type": "stream",
     "text": [
      " 5\n",
      " 2 4 2 3 1\n"
     ]
    },
    {
     "name": "stdout",
     "output_type": "stream",
     "text": [
      "2\n"
     ]
    }
   ],
   "source": [
    "n=int(input())\n",
    "\n",
    "sc_list = list(map(int,input().split()))\n",
    "\n",
    "sc_list.sort()\n",
    "\n",
    "team = 0\n",
    "now_team = 0\n",
    "\n",
    "for i in sc_list:\n",
    "    now_team +=1\n",
    "    if now_team>=i:\n",
    "        team += 1\n",
    "        now_team = 0\n",
    "\n",
    "print(team)"
   ]
  },
  {
   "cell_type": "markdown",
   "metadata": {},
   "source": [
    "## 내 방법은 딕셔너리를 사용하여 확인에는 쉽지만 데이터 량을 많이 사용하게 된다."
   ]
  },
  {
   "cell_type": "markdown",
   "metadata": {},
   "source": []
  },
  {
   "cell_type": "markdown",
   "metadata": {},
   "source": []
  },
  {
   "cell_type": "markdown",
   "metadata": {},
   "source": []
  },
  {
   "cell_type": "markdown",
   "metadata": {},
   "source": []
  },
  {
   "cell_type": "markdown",
   "metadata": {},
   "source": []
  },
  {
   "cell_type": "markdown",
   "metadata": {},
   "source": []
  },
  {
   "cell_type": "markdown",
   "metadata": {},
   "source": []
  },
  {
   "cell_type": "markdown",
   "metadata": {},
   "source": [
    "# 구현 : 시뮬레이션과 완전 탐색"
   ]
  },
  {
   "cell_type": "markdown",
   "metadata": {},
   "source": [
    "# 구현 (Implementation)\n",
    "* ### 구현이란, 머릿속에 있는 알고리즘을 소스코드로 바꾸는 과정\n",
    "\n",
    "# 구현 문제\n",
    "* ### 구현 문제란?\n",
    "    * ### 풀이를 떠올리기 쉽지만 소스코드로 옮기기 어려운 문제를 지칭\n",
    "* ### 구현 유형의 예시는 다음과 같다.\n",
    "    * ### 알고리즘은 간단한데 코드가 지나칠 만큼 길어지는 문제\n",
    "    * ### 실수 연산을 다루고, 특정 소수점 자리까지 출력해야 하는 문제\n",
    "    * ### 문자열을 특정한 기준에 따라서 끊어서 처리해야하는 문제\n",
    "    * ### 적절한 라이브러리를 찾아서 사용해야 하는 문제\n"
   ]
  },
  {
   "cell_type": "markdown",
   "metadata": {},
   "source": [
    "* ### 일반적으로 알고리즘 문제에서늬 2차원 공간은 행렬의 의미로 사용된다."
   ]
  },
  {
   "cell_type": "code",
   "execution_count": 29,
   "metadata": {},
   "outputs": [
    {
     "name": "stdout",
     "output_type": "stream",
     "text": [
      "( 0 , 0 ) ( 0 , 1 ) ( 0 , 2 ) ( 0 , 3 ) ( 0 , 4 ) \n",
      "( 1 , 0 ) ( 1 , 1 ) ( 1 , 2 ) ( 1 , 3 ) ( 1 , 4 ) \n",
      "( 2 , 0 ) ( 2 , 1 ) ( 2 , 2 ) ( 2 , 3 ) ( 2 , 4 ) \n",
      "( 3 , 0 ) ( 3 , 1 ) ( 3 , 2 ) ( 3 , 3 ) ( 3 , 4 ) \n",
      "( 4 , 0 ) ( 4 , 1 ) ( 4 , 2 ) ( 4 , 3 ) ( 4 , 4 ) \n"
     ]
    }
   ],
   "source": [
    "for i in range(5):\n",
    "    for j in range(5):\n",
    "        print('(', i, ',', j, ')', end = ' ')\n",
    "    print()"
   ]
  },
  {
   "cell_type": "markdown",
   "metadata": {},
   "source": [
    "* ### 시뮬레이션 및 완전 탐색 문제에서는 2차원 공간에서의 방향 벡터가 자주 활용된다."
   ]
  },
  {
   "cell_type": "code",
   "execution_count": 31,
   "metadata": {},
   "outputs": [
    {
     "name": "stdout",
     "output_type": "stream",
     "text": [
      "2 3\n",
      "1 2\n",
      "2 1\n",
      "3 2\n"
     ]
    }
   ],
   "source": [
    "# 동 서 남 북 이동\n",
    "\n",
    "dx = [0, -1, 0, 1]\n",
    "dy = [1, 0, -1, 0]\n",
    "\n",
    "# 현재 위치 \n",
    "x, y = 2, 2\n",
    "\n",
    "for i in range(4):\n",
    "    nx = x + dx[i]\n",
    "    ny = y + dy[i]\n",
    "    print(nx, ny)"
   ]
  },
  {
   "cell_type": "markdown",
   "metadata": {},
   "source": []
  },
  {
   "cell_type": "markdown",
   "metadata": {},
   "source": []
  },
  {
   "cell_type": "markdown",
   "metadata": {},
   "source": []
  },
  {
   "cell_type": "markdown",
   "metadata": {},
   "source": [
    "# ex1) 상하좌우\n",
    "\n",
    "* ### 여행가 a는 nxn 크기의 정사각형 공간 위에 서 있다. 이 공간은 1x1 크기의 정사각형으로 나누어져 있다. 가장 왼쪽 위 좌표는 (1,1)이며, 가장 오른쪽 아래 좌표는 (n,n)이다. 여행가 a는 상하좌우 방향으로 이동할 수 있으며 시작 좌표는 항상 (1,1) 이다. 우리 앞에는 여행가 a가 이동핼 계획이 적힌 계획서가 놓여 있다.\n",
    "* ### 계획서에는 하나의 줄에 띄어쓰기를 기준으로 하여 L,R,U,D 중 하나의 문자가 반복적으로 적혀 있다. 각 문자의 의미는 다음과 같다.\n",
    "    * L: 왼쪽으로 한칸 이동 \n",
    "    * R: 오른쪽으로 한칸 이동\n",
    "    * U: 위로 한칸 이동\n",
    "    * D: 아래로 한칸 이동\n",
    "* ### 이때 여행가가 nxn 공간을 벗어나는 움직임은 무시한다."
   ]
  },
  {
   "cell_type": "code",
   "execution_count": 34,
   "metadata": {},
   "outputs": [
    {
     "name": "stdin",
     "output_type": "stream",
     "text": [
      " 5\n",
      " R R U D D D \n"
     ]
    },
    {
     "name": "stdout",
     "output_type": "stream",
     "text": [
      "[4, 3]\n"
     ]
    }
   ],
   "source": [
    "n=int(input())\n",
    "way = list(map(str, input().split()))\n",
    "\n",
    "def go(a,b):\n",
    "    c = list(map(lambda i,j : i+j , a,b))\n",
    "    return c\n",
    "\n",
    "dic = {'L':[0,-1], 'R':[0,1], 'U':[-1,0], 'D':[1,0]}\n",
    "\n",
    "where = [1, 1]\n",
    "for i in way:\n",
    "    now_where = go(where, dic[i])\n",
    "    if 1<=now_where[0]<=n and 1<=now_where[1]<=n:\n",
    "        where = now_where\n",
    "\n",
    "print(where)"
   ]
  },
  {
   "cell_type": "markdown",
   "metadata": {},
   "source": [
    "### 시뮬레이션 유형으로도 분류 되는 구현 문제\n",
    "### 시뮬레이션 유형, 구현 유형, 완전 탐색 유형은 서로 유사한 점이 많다는 정도로만 기억"
   ]
  },
  {
   "cell_type": "code",
   "execution_count": 35,
   "metadata": {},
   "outputs": [
    {
     "name": "stdin",
     "output_type": "stream",
     "text": [
      " 5\n",
      " R R U D D D\n"
     ]
    },
    {
     "name": "stdout",
     "output_type": "stream",
     "text": [
      "4 3\n"
     ]
    }
   ],
   "source": [
    "n = int(input())\n",
    "x, y = 1, 1\n",
    "plans = input().split()\n",
    "\n",
    "dx = [0, 0, -1, 1]\n",
    "dy = [-1, 1, 0, 0]\n",
    "move_type =['L', 'R', 'U', 'D'] # 무브 타입의 인댁스에 해당 무브타입의 dx,dy를 배치\n",
    "\n",
    "for plan in plans:\n",
    "    for i in range(len(move_type)):\n",
    "        if move_type[i]==plan:\n",
    "            nx = x + dx[i]\n",
    "            ny = y + dy[i]\n",
    "            break\n",
    "    if 1 <= nx <= n and 1 <= ny <= n:\n",
    "        x = nx\n",
    "        y = ny\n",
    "\n",
    "print(x,y)"
   ]
  },
  {
   "cell_type": "markdown",
   "metadata": {},
   "source": []
  },
  {
   "cell_type": "markdown",
   "metadata": {},
   "source": []
  },
  {
   "cell_type": "markdown",
   "metadata": {},
   "source": []
  },
  {
   "cell_type": "markdown",
   "metadata": {},
   "source": [
    "# ex2) 시각\n",
    "* ### 정수 n 이 입력되면 00시 00분 00초 부터 n시 59분 59초 까지의 모든 시각 중에서 3이 하나라도 포함되는 모든 경우의 수를 구하는 프로그램을 작성하라\n",
    "    * ### 예로 1이 입력되었을 때 3이 다음은 3이 하나라도 포함되므로 세어야 하는 시각이다.\n",
    "        * ### 00시 00분 03초\n",
    "        * ### 00시 13분 30초\n",
    "    * ### 반면에 다음은 3이 하나도 포함되어 있지 않으므로 세면 안되는 시각이다.\n",
    "        * ### 00시 02분 55초\n",
    "        * ### 01시 27분 45초\n",
    "        "
   ]
  },
  {
   "cell_type": "code",
   "execution_count": 37,
   "metadata": {},
   "outputs": [
    {
     "name": "stdin",
     "output_type": "stream",
     "text": [
      " 23\n"
     ]
    },
    {
     "name": "stdout",
     "output_type": "stream",
     "text": [
      "43875\n"
     ]
    }
   ],
   "source": [
    "n = int(input())\n",
    "\n",
    "count = 0\n",
    "\n",
    "for h in range(n+1):\n",
    "    if '3' in str(h):\n",
    "        count += 60*60   #시간에 3이 있는 경우 모든 분과 초의 경우의 수를 더하고 h를 하나 늘림 (아래 포문 실행x)\n",
    "        continue\n",
    "    \n",
    "    for m in range(60):\n",
    "        if '3' in str(m):\n",
    "            count += 60     #분에 3이 있는 경우 모든 초의 경우의 수를 더하고 h를 하나 늘림 (아래 포문 실행x)\n",
    "            continue\n",
    "            \n",
    "        for s in range(60):\n",
    "            if '3' in str(s):\n",
    "                count += 1\n",
    "\n",
    "print(count)"
   ]
  },
  {
   "cell_type": "markdown",
   "metadata": {},
   "source": [
    "### 이 문제는 가능한 모든 시각의 경우를 하나씩 모두 세서 풀 수 있는 문제이다.\n",
    "### 하루는  86400초!!!\n",
    "### 따라서 단순히 시각을 1씩 증가시키면서 3이 하나라도 포함 되어 있는지를 확인하면 됨\n",
    "## 이러한 유형을 완전 탐색(Brute Forcing) 문제 유형이라고 부름"
   ]
  },
  {
   "cell_type": "markdown",
   "metadata": {},
   "source": []
  },
  {
   "cell_type": "markdown",
   "metadata": {},
   "source": []
  },
  {
   "cell_type": "markdown",
   "metadata": {},
   "source": []
  },
  {
   "cell_type": "markdown",
   "metadata": {},
   "source": [
    "# ex3)왕실의 나이트 \n",
    "* ### 행복 왕국의 왕실 정원은 체스판과 같은 8x8 좌표 평면이다. 왕실 정원의 특정한 한칸에 나이트가 서 있다. 나이트는 매우 충성스러운 신하로 매일 무술을 연마한다.\n",
    "* ### 나이트는 말을 타고 있기 때문에 이동할 때는 L자 형태로만 이동할 수 있으며 정원 밖으로는 나갈 수 없다.\n",
    "* ### 나이트는 특정 위치에서 다음과 같은 2가지 경우로 이동할 수 있다.\n",
    "    * ### 수평으로 두칸 이동한 뒤에 수직으로 한칸 이동\n",
    "    * ### 수직으로 두칸 이동한 뒤에 수평으로 한칸 이동\n",
    "* ### 이처럼 8x8 좌표평면상에서 나이트의 위치가 주어졌을때 나이트가 이동할 수 있는 경우의 수를 출력하는 프로그램을 작성하세요. 왕실의 정원에서 행 위치를 표현할 때는 1부터 8로 표현하며, 열 위치를 표현 할 때는 a 부터 h로 표현 합니다."
   ]
  },
  {
   "cell_type": "code",
   "execution_count": 38,
   "metadata": {},
   "outputs": [
    {
     "name": "stdin",
     "output_type": "stream",
     "text": [
      " a1\n"
     ]
    },
    {
     "name": "stdout",
     "output_type": "stream",
     "text": [
      "2\n"
     ]
    }
   ],
   "source": [
    "a = input()\n",
    "\n",
    "x_list=['a','b','c','d','e','f','g','h']\n",
    "\n",
    "x = x_list.index(a[0])+1\n",
    "y = int(a[1])\n",
    "\n",
    "dx = [2,2,-2,-2,1,-1,1,-1]\n",
    "dy = [1,-1,1,-1,2,2,-2,-2]\n",
    "\n",
    "count = 0\n",
    "\n",
    "for i in range(len(dx)):\n",
    "    nx = x + dx[i]\n",
    "    ny = y + dy[i]\n",
    "    \n",
    "    if 1<=nx<=8 and 1<=ny<=8:\n",
    "        count += 1\n",
    "\n",
    "print(count)"
   ]
  },
  {
   "cell_type": "code",
   "execution_count": 40,
   "metadata": {},
   "outputs": [
    {
     "name": "stdin",
     "output_type": "stream",
     "text": [
      " a1\n"
     ]
    },
    {
     "name": "stdout",
     "output_type": "stream",
     "text": [
      "2\n"
     ]
    }
   ],
   "source": [
    "data = input()\n",
    "\n",
    "row = int(data[1])\n",
    "col = int(ord(data[0])) - int(ord('a')) +1  # 입력받은 알파벳의 아스키 코드 인덱스에 'a'의 인덱스를 빼서 몇번째 알파벳인지 구함!!!\n",
    "\n",
    "steps = [(-2,-1), (-2,1), (2,-1), (2,1), (-1,-2), (1,-2), (-1,2), (1,2)]\n",
    "\n",
    "count = 0\n",
    "\n",
    "for step in steps:\n",
    "    n_row = row + step[0]\n",
    "    n_col = col + step[1]\n",
    "    if n_row>=1 and n_row<=n and n_col>=1 and n_col<=n:\n",
    "        count += 1\n",
    "        \n",
    "print(count)"
   ]
  },
  {
   "cell_type": "markdown",
   "metadata": {},
   "source": []
  },
  {
   "cell_type": "markdown",
   "metadata": {},
   "source": []
  },
  {
   "cell_type": "markdown",
   "metadata": {},
   "source": []
  },
  {
   "cell_type": "markdown",
   "metadata": {},
   "source": [
    "# ex4) 문자열 재정렬\n",
    "* ### 알파벳 대문자와 숫자(0~9)로만 구성된 문자열이 입력으로 주어집니다. 이때 모든 알파벳을 오름차순으로 정렬하여 이어서 출력한 뒤에, 그 뒤에 모든 숫자를 더한 겂을 이어서 출력합니다.\n",
    "* ### 예를 들어 K1KA5CB7 이라는 값이 들어오면 ABCKK13을 출력합니다.\n",
    "\n",
    "\n",
    "\n",
    "# 성재"
   ]
  },
  {
   "cell_type": "code",
   "execution_count": 42,
   "metadata": {},
   "outputs": [
    {
     "name": "stdin",
     "output_type": "stream",
     "text": [
      " K1KA5CB7\n"
     ]
    },
    {
     "name": "stdout",
     "output_type": "stream",
     "text": [
      "ABCKK13\n"
     ]
    }
   ],
   "source": [
    "data = input()\n",
    "\n",
    "num_list = [str(i) for i in range(10)]\n",
    "\n",
    "num = 0\n",
    "Alph_list = []\n",
    "\n",
    "for j in data:\n",
    "    if j in num_list:\n",
    "        num += int(j)\n",
    "    else:\n",
    "        Alph_list.append(j)\n",
    "        \n",
    "Alph_list.sort()\n",
    "\n",
    "for k in Alph_list:\n",
    "    print(k, end='')\n",
    "\n",
    "if num!=0: \n",
    "    print(num)"
   ]
  },
  {
   "cell_type": "code",
   "execution_count": null,
   "metadata": {},
   "outputs": [],
   "source": [
    "data = input()\n",
    "result = []\n",
    "value = 0\n",
    "\n",
    "for x in data:\n",
    "    if x.isalpha(): #알파벳인지 확인하는 함수!!!\n",
    "        result.append(x)\n",
    "    else:\n",
    "        value += int(x)\n",
    "result.sort()\n",
    "\n",
    "if value !=0:\n",
    "    result.append(str(value))\n",
    "\n",
    "print(''.join(result))"
   ]
  }
 ],
 "metadata": {
  "kernelspec": {
   "display_name": "Python 3",
   "language": "python",
   "name": "python3"
  },
  "language_info": {
   "codemirror_mode": {
    "name": "ipython",
    "version": 3
   },
   "file_extension": ".py",
   "mimetype": "text/x-python",
   "name": "python",
   "nbconvert_exporter": "python",
   "pygments_lexer": "ipython3",
   "version": "3.8.5"
  }
 },
 "nbformat": 4,
 "nbformat_minor": 4
}
