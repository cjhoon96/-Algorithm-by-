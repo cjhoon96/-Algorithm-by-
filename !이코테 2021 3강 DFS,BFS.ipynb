{
 "cells": [
  {
   "cell_type": "markdown",
   "metadata": {},
   "source": [
    "# 그래프 탐색 알고리즘 : DFS/BFS\n",
    "\n",
    "* ## 탐색(Search)이란 많은 양의 데이터 중에서 원하는 데이터를 찾는 과정을 말한다.\n",
    "* ## 대표적인 그래프 탐색 알고리즘으로는 DFS와 BFS가 있다.\n",
    "* # DFS/BFS는 코테에서 매우 자주 등장하는 유형이므로 반드시 숙지!!!"
   ]
  },
  {
   "cell_type": "markdown",
   "metadata": {},
   "source": []
  },
  {
   "cell_type": "markdown",
   "metadata": {},
   "source": []
  },
  {
   "cell_type": "markdown",
   "metadata": {},
   "source": []
  },
  {
   "cell_type": "markdown",
   "metadata": {},
   "source": [
    "# 1. 스택과 큐 자료구조\n",
    "'''\n",
    "'''\n",
    "# 1-1 스택 자료구조\n",
    "* ## 먼저 들어온 데이터가 나중에 나가는 형식 (선입 후출)의 자료구조\n",
    "* ## 입구와 출고가 동일한 형태로 스택을 시각화 할 수 있음\n",
    "\n",
    "### 파이썬에서는 리스트의 .append()와 .pop() 을 통해 스택을 구현할 수 있음"
   ]
  },
  {
   "cell_type": "code",
   "execution_count": 1,
   "metadata": {},
   "outputs": [
    {
     "name": "stdout",
     "output_type": "stream",
     "text": [
      "[1, 3, 2, 5]\n",
      "[5, 2, 3, 1]\n"
     ]
    }
   ],
   "source": [
    "stack = []\n",
    "\n",
    "stack.append(5)\n",
    "stack.append(2)\n",
    "stack.append(3)\n",
    "stack.append(7)\n",
    "stack.pop()\n",
    "stack.append(1)\n",
    "stack.append(4)\n",
    "stack.pop()\n",
    "\n",
    "print(stack[::-1]) # 최상단 원소 부터 출력\n",
    "print(stack)"
   ]
  },
  {
   "cell_type": "markdown",
   "metadata": {},
   "source": [
    "# 1-2 큐 자료구조 \n",
    "* ## 먼저 들어온 데이터가 먼저 나가는 형식(선입 선출)의 자료구조\n",
    "* ## 큐는 입구와 출구가 모두 뚫려 있는 터널과 같은 형태로 시각화 할 수 있음\n",
    "\n",
    "### 파이썬에서는 from collections import deque를 통해 구현 가능\n",
    "### 리스트로 가능하지만 시간 복잡도가 더 커짐"
   ]
  },
  {
   "cell_type": "code",
   "execution_count": 2,
   "metadata": {},
   "outputs": [
    {
     "name": "stdout",
     "output_type": "stream",
     "text": [
      "deque([3, 7, 1, 4])\n",
      "deque([4, 1, 7, 3])\n"
     ]
    }
   ],
   "source": [
    "from collections import deque\n",
    "\n",
    "queue = deque()\n",
    "\n",
    "queue.append(5)\n",
    "queue.append(2)\n",
    "queue.append(3)\n",
    "queue.append(7)\n",
    "queue.popleft()\n",
    "queue.append(1)\n",
    "queue.append(4)\n",
    "queue.popleft()\n",
    "\n",
    "print(queue)\n",
    "queue.reverse()\n",
    "print(queue)"
   ]
  },
  {
   "cell_type": "markdown",
   "metadata": {},
   "source": []
  },
  {
   "cell_type": "markdown",
   "metadata": {},
   "source": []
  },
  {
   "cell_type": "markdown",
   "metadata": {},
   "source": []
  },
  {
   "cell_type": "markdown",
   "metadata": {},
   "source": [
    "# 2. 재귀함수\n",
    "* ## 재귀함수(Recursive Function)란 자기 자신을 다시 호출하는 함수를 의미\n",
    "* ## 단순한 형태의 재귀함수 예제\n",
    "    * ## '재귀함수를 호출합니다.'라는 문자열을 무한히 출력합니다.\n",
    "    * ## 어느정도 출력하다가 최대 재귀 깊이 초과 메시지가 출력됩니다.\n",
    "    "
   ]
  },
  {
   "cell_type": "code",
   "execution_count": 5,
   "metadata": {},
   "outputs": [
    {
     "data": {
      "text/plain": [
       "\"\\ndef recursive_function():\\n    print('재귀함수를 호출합니다.')\\n    recursive_function()\\nrecursive_function()\\n\""
      ]
     },
     "execution_count": 5,
     "metadata": {},
     "output_type": "execute_result"
    }
   ],
   "source": [
    "'''\n",
    "def recursive_function():\n",
    "    print('재귀함수를 호출합니다.')\n",
    "    recursive_function()\n",
    "recursive_function()\n",
    "'''"
   ]
  },
  {
   "cell_type": "markdown",
   "metadata": {},
   "source": [
    "* ## 재귀함수를 문제 풀이에서 사용할때 종료조건을 반드시 명시!! (무한 호출 방지)\n",
    "* ## 재귀함수를 활용하면 스택 구조처럼 스택 프레임에 입력값을 저장 하였다가 마지막에 호출된 함수부터 처음에 호출된 함수까지 실행\n",
    "\n",
    "\n"
   ]
  },
  {
   "cell_type": "markdown",
   "metadata": {},
   "source": []
  },
  {
   "cell_type": "markdown",
   "metadata": {},
   "source": []
  },
  {
   "cell_type": "markdown",
   "metadata": {},
   "source": [
    "* ### 예시) 팩토리얼"
   ]
  },
  {
   "cell_type": "code",
   "execution_count": 6,
   "metadata": {},
   "outputs": [
    {
     "name": "stdin",
     "output_type": "stream",
     "text": [
      " 100\n"
     ]
    },
    {
     "name": "stdout",
     "output_type": "stream",
     "text": [
      "93326215443944152681699238856266700490715968264381621468592963895217599993229915608941463976156518286253697920827223758251185210916864000000000000000000000000\n"
     ]
    }
   ],
   "source": [
    "def fac(n):\n",
    "    if n==1:\n",
    "        return 1\n",
    "    else:\n",
    "        return n*fac(n-1)\n",
    "print(fac(int(input())))"
   ]
  },
  {
   "cell_type": "markdown",
   "metadata": {},
   "source": []
  },
  {
   "cell_type": "markdown",
   "metadata": {},
   "source": []
  },
  {
   "cell_type": "markdown",
   "metadata": {},
   "source": [
    "* ### 예시) 최대공약수 계산 (유클리드 호제법) 예제\n",
    "\n",
    "    * ### 두개의 자연수에 대한 최대공약수를 구하는 대표적인 알고리즘으로는 유클리드 호제법이 있다.\n",
    "    * ### 유클리드 호제법\n",
    "        * ### 두 자연수 a,b에 대해 (a>b) a를 b로 나눈 나머지를 r이라고 하자\n",
    "        * ### 이때 a와 b의 최대공약수는 b와 r의 최대 공약수와 같다.\n",
    "\n",
    "### 재귀 함수로 구현"
   ]
  },
  {
   "cell_type": "code",
   "execution_count": 11,
   "metadata": {},
   "outputs": [
    {
     "name": "stdin",
     "output_type": "stream",
     "text": [
      " 192 162\n"
     ]
    },
    {
     "name": "stdout",
     "output_type": "stream",
     "text": [
      "6\n"
     ]
    }
   ],
   "source": [
    "def gcd(a,b):\n",
    "    r = a%b\n",
    "    if r == 0:\n",
    "        return b\n",
    "    else:\n",
    "        return gcd(b,r)\n",
    "    \n",
    "a,b=map(int,input().split())\n",
    "\n",
    "print(gcd(a,b))\n"
   ]
  },
  {
   "cell_type": "markdown",
   "metadata": {},
   "source": []
  },
  {
   "cell_type": "markdown",
   "metadata": {},
   "source": [
    "* ## 모든 재귀함수는 반복문으로 구현 가능\n",
    "* ## 유리한 경우도 있고 그렇지 않은 경우도 있음\n",
    "* ## 컴퓨터가 함수를 연속적으로 호출하면 컴퓨터 메모리 내부의 스택 프레임에 쌓임\n",
    "    * ## 그래서 스택을 사용해야 할때 구현상 스택 라이브러리 대신에 재귀함수를 이용하는 경우가 많음\n",
    "    "
   ]
  },
  {
   "cell_type": "markdown",
   "metadata": {},
   "source": []
  },
  {
   "cell_type": "markdown",
   "metadata": {},
   "source": []
  },
  {
   "cell_type": "markdown",
   "metadata": {},
   "source": []
  },
  {
   "cell_type": "markdown",
   "metadata": {},
   "source": []
  },
  {
   "cell_type": "markdown",
   "metadata": {},
   "source": [
    "# 3. DFS(Depth-First Search)\n",
    "\n",
    "* ## DFS는 깊이 우선 탐색이라고도 부르며 그래프에서 깊은 부분을 우선적으로 탐색하는 알고리즘이다.\n",
    "* ## DFS는 스택 자료구조 (혹은 재귀 함수)를 이용하며, 구체적인 동작 과정은 다음과 같다.\n",
    "    * ## 탐색 시작 노드를 스택에 삽입하고 방문 처리를 한다.\n",
    "    * ## 스택의 최상단 노드에 방문 하지 않은 인접한 노드가 하나라도 있으며 그 노드를 스택에 넣고 방문 처리를 한다. 방문하지 않은 인접 노드가 없으면 스택에서 최상단 노드를 꺼낸다.\n",
    "    * ## 더이상 2번의 과정을 수행할 수 없을 때까지 반복한다."
   ]
  },
  {
   "cell_type": "markdown",
   "metadata": {},
   "source": [
    "## DFS 소스코드 구현"
   ]
  },
  {
   "cell_type": "code",
   "execution_count": 14,
   "metadata": {},
   "outputs": [
    {
     "name": "stdout",
     "output_type": "stream",
     "text": [
      "1 2 7 6 8 3 4 5 "
     ]
    }
   ],
   "source": [
    "def dfs(graph, v, visited):\n",
    "    visited[v] = True\n",
    "    print(v, end = ' ')\n",
    "    \n",
    "    for i in graph[v]:\n",
    "        if not visited[i]:\n",
    "            dfs(graph, i, visited)\n",
    "            \n",
    "graph = [\n",
    "    [],        # 인덱스가 1부터 시작 하는 경우가 많으므로 0번째는 빈 리스트를 넣음\n",
    "    [2,3,8], \n",
    "    [1,7], \n",
    "    [1,4,5],\n",
    "    [3,5],\n",
    "    [3,4],\n",
    "    [7],\n",
    "    [2,6,8],\n",
    "    [1,7]\n",
    "]\n",
    "visited = [False] * 9  # 인덱스 0은 사용 하지 않기 위해 1~8 만 필요\n",
    "\n",
    "dfs(graph, 1, visited)"
   ]
  },
  {
   "cell_type": "markdown",
   "metadata": {},
   "source": []
  },
  {
   "cell_type": "markdown",
   "metadata": {},
   "source": []
  },
  {
   "cell_type": "markdown",
   "metadata": {},
   "source": []
  },
  {
   "cell_type": "markdown",
   "metadata": {},
   "source": [
    "# 4. BFS(Breadth-First Search)\n",
    "\n",
    "* ## BFS는 너비 우선 탐색이라고도 부르며 그래프에서 가까운 노드부터 우선적으로 탐색하는 알고리즘이다.\n",
    "* ## BFS는 큐 자료구조를 이용하며, 구체적인 동작 과정은 다음과 같다.\n",
    "    * ## 탐색 시작 노드를 큐에 삽입하고 방문 처리를 한다.\n",
    "    * ## 큐에서 노드를 꺼낸 뒤에 해당 노드의 인접 노드 중에서 방문하지 않은 노드를 모두 큐에 삽입하고 방문 처리한다.\n",
    "    * ## 더이상 2번의 과정을 수행할 수 없을 때까지 반복한다.  \n",
    "\n",
    "## BFS 소스코드 구현"
   ]
  },
  {
   "cell_type": "code",
   "execution_count": 15,
   "metadata": {},
   "outputs": [
    {
     "name": "stdout",
     "output_type": "stream",
     "text": [
      "1 2 3 8 7 4 5 6 "
     ]
    }
   ],
   "source": [
    "from collections import deque\n",
    "\n",
    "def bfs(graph, start, visited):\n",
    "    \n",
    "    queue = deque([start])\n",
    "    \n",
    "    visited[start] = True\n",
    "    \n",
    "    while queue:\n",
    "        v = queue.popleft()\n",
    "        print(v, end = ' ')\n",
    "        \n",
    "        for i in graph[v]:\n",
    "            if not visited[i]:\n",
    "                queue.append(i)\n",
    "                visited[i] = True\n",
    "                \n",
    "graph = [\n",
    "    [],        # 인덱스가 1부터 시작 하는 경우가 많으므로 0번째는 빈 리스트를 넣음\n",
    "    [2,3,8], \n",
    "    [1,7], \n",
    "    [1,4,5],\n",
    "    [3,5],\n",
    "    [3,4],\n",
    "    [7],\n",
    "    [2,6,8],\n",
    "    [1,7]\n",
    "]\n",
    "\n",
    "visited = [False] * 9  # 인덱스 0은 사용 하지 않기 위해 1~8 만 필요\n",
    "\n",
    "bfs(graph, 1, visited)"
   ]
  },
  {
   "cell_type": "markdown",
   "metadata": {},
   "source": []
  },
  {
   "cell_type": "markdown",
   "metadata": {},
   "source": []
  },
  {
   "cell_type": "markdown",
   "metadata": {},
   "source": []
  },
  {
   "cell_type": "markdown",
   "metadata": {},
   "source": []
  },
  {
   "cell_type": "markdown",
   "metadata": {},
   "source": [
    "# 5. DFS&BFS 문제풀이"
   ]
  },
  {
   "cell_type": "markdown",
   "metadata": {},
   "source": [
    "# EX1) 음료수 얼려먹기\n",
    "* ## nxm 크기의 얼음 틀이 있다. 구멍이 뚫려 있는 부분은 0, 칸막이가 존재하는 부분은 1로 표시한다. \n",
    "* ## 구멍이 뚫려 있는 부분끼리 상,하,좌,우 로 붙어 있는 경우 서로 연결되어 있는 것으로 간주한다.\n",
    "* ## 이때 얼음 틀의 모양이 주어졌을 때 생성되는 총 아이스크림의 개수를 구하는 프로그램을 작성하시오.\n",
    "* ## 다음의 4x5 얼음틀 예시에서는 아이스크림이 총 3개 생성된다.\n",
    "    ## 00110\n",
    "    ## 00011\n",
    "    ## 11111\n",
    "    ## 00000"
   ]
  },
  {
   "cell_type": "code",
   "execution_count": 10,
   "metadata": {},
   "outputs": [
    {
     "name": "stdin",
     "output_type": "stream",
     "text": [
      " 3 3\n",
      " 001\n",
      " 010\n",
      " 101\n"
     ]
    },
    {
     "name": "stdout",
     "output_type": "stream",
     "text": [
      "1\n",
      "2\n",
      "3\n",
      "3\n"
     ]
    }
   ],
   "source": [
    "n, m = map(int,input().split())\n",
    "\n",
    "graph=[]\n",
    "\n",
    "for _ in range(n):\n",
    "    graph.append(list(map(int,input())))\n",
    "    \n",
    "def dfs(x,y):\n",
    "    \n",
    "    if x<=-1 or x>=n or y<=-1 or y>=m:\n",
    "        return False\n",
    "    if graph[x][y] == 0:\n",
    "        \n",
    "        graph[x][y] = 1\n",
    "        dfs(x - 1, y)\n",
    "        dfs(x + 1, y)\n",
    "        dfs(x, y - 1)\n",
    "        dfs(x, y + 1)\n",
    "        \n",
    "        return True\n",
    "    return False\n",
    "\n",
    "ans = 0\n",
    "\n",
    "for i in range(n):\n",
    "    for j in range(m):\n",
    "        if dfs(i,j) == True:\n",
    "            ans += 1\n",
    "            print(ans)\n",
    "\n",
    "print(ans)"
   ]
  },
  {
   "cell_type": "markdown",
   "metadata": {},
   "source": []
  },
  {
   "cell_type": "markdown",
   "metadata": {},
   "source": []
  },
  {
   "cell_type": "markdown",
   "metadata": {},
   "source": []
  },
  {
   "cell_type": "markdown",
   "metadata": {},
   "source": [
    "# EX2) 미로 탈출\n",
    "* ## 동빈이는 nxm 크기의 직사각형 형태의 미로에 갇혀 있습니다. 미로에는 여러 마리의 괴물이 있어 이를 피해 탈출해야 합니다.\n",
    "* ## 동빈이의 위치는 (1,1)이며 미로의 출구는 (n,m) 의 위치에 존재하며 한번에 한칸씩 이동할 수 있습니다.\n",
    "* ## 이때 괴물이 있는 부분은 0, 괴물이 없는 부분은 1로 표시되어 있습니다.\n",
    "* ## 미로는 반드시 탈출 할 수 있은 형태로 제시됩니다.\n",
    "* ## 이때 동빈이가 탈출하기 위해 움직여야 하는 최소 칸의 개수를 구하세요\n",
    "    * ## 칸을 셀때는 시작칸과 마지막 칸을 모두 포함해서 계산합니다."
   ]
  },
  {
   "cell_type": "code",
   "execution_count": 1,
   "metadata": {},
   "outputs": [
    {
     "name": "stdin",
     "output_type": "stream",
     "text": [
      " 5 6\n",
      " 101010\n",
      " 111111\n",
      " 000001\n",
      " 111111\n",
      " 111111\n"
     ]
    },
    {
     "name": "stdout",
     "output_type": "stream",
     "text": [
      "[[1 0 1 0 1 0]\n",
      " [2 1 1 1 1 1]\n",
      " [0 0 0 0 0 1]\n",
      " [1 1 1 1 1 1]\n",
      " [1 1 1 1 1 1]]\n",
      "[[3 0 1 0 1 0]\n",
      " [2 1 1 1 1 1]\n",
      " [0 0 0 0 0 1]\n",
      " [1 1 1 1 1 1]\n",
      " [1 1 1 1 1 1]]\n",
      "[[3 0 1 0 1 0]\n",
      " [2 3 1 1 1 1]\n",
      " [0 0 0 0 0 1]\n",
      " [1 1 1 1 1 1]\n",
      " [1 1 1 1 1 1]]\n",
      "[[3 0 1 0 1 0]\n",
      " [2 3 4 1 1 1]\n",
      " [0 0 0 0 0 1]\n",
      " [1 1 1 1 1 1]\n",
      " [1 1 1 1 1 1]]\n",
      "[[3 0 5 0 1 0]\n",
      " [2 3 4 1 1 1]\n",
      " [0 0 0 0 0 1]\n",
      " [1 1 1 1 1 1]\n",
      " [1 1 1 1 1 1]]\n",
      "[[3 0 5 0 1 0]\n",
      " [2 3 4 5 1 1]\n",
      " [0 0 0 0 0 1]\n",
      " [1 1 1 1 1 1]\n",
      " [1 1 1 1 1 1]]\n",
      "[[3 0 5 0 1 0]\n",
      " [2 3 4 5 6 1]\n",
      " [0 0 0 0 0 1]\n",
      " [1 1 1 1 1 1]\n",
      " [1 1 1 1 1 1]]\n",
      "[[3 0 5 0 7 0]\n",
      " [2 3 4 5 6 1]\n",
      " [0 0 0 0 0 1]\n",
      " [1 1 1 1 1 1]\n",
      " [1 1 1 1 1 1]]\n",
      "[[3 0 5 0 7 0]\n",
      " [2 3 4 5 6 7]\n",
      " [0 0 0 0 0 1]\n",
      " [1 1 1 1 1 1]\n",
      " [1 1 1 1 1 1]]\n",
      "[[3 0 5 0 7 0]\n",
      " [2 3 4 5 6 7]\n",
      " [0 0 0 0 0 8]\n",
      " [1 1 1 1 1 1]\n",
      " [1 1 1 1 1 1]]\n",
      "[[3 0 5 0 7 0]\n",
      " [2 3 4 5 6 7]\n",
      " [0 0 0 0 0 8]\n",
      " [1 1 1 1 1 9]\n",
      " [1 1 1 1 1 1]]\n",
      "[[ 3  0  5  0  7  0]\n",
      " [ 2  3  4  5  6  7]\n",
      " [ 0  0  0  0  0  8]\n",
      " [ 1  1  1  1  1  9]\n",
      " [ 1  1  1  1  1 10]]\n",
      "[[ 3  0  5  0  7  0]\n",
      " [ 2  3  4  5  6  7]\n",
      " [ 0  0  0  0  0  8]\n",
      " [ 1  1  1  1 10  9]\n",
      " [ 1  1  1  1  1 10]]\n",
      "[[ 3  0  5  0  7  0]\n",
      " [ 2  3  4  5  6  7]\n",
      " [ 0  0  0  0  0  8]\n",
      " [ 1  1  1  1 10  9]\n",
      " [ 1  1  1  1 11 10]]\n",
      "[[ 3  0  5  0  7  0]\n",
      " [ 2  3  4  5  6  7]\n",
      " [ 0  0  0  0  0  8]\n",
      " [ 1  1  1 11 10  9]\n",
      " [ 1  1  1  1 11 10]]\n",
      "[[ 3  0  5  0  7  0]\n",
      " [ 2  3  4  5  6  7]\n",
      " [ 0  0  0  0  0  8]\n",
      " [ 1  1  1 11 10  9]\n",
      " [ 1  1  1 12 11 10]]\n",
      "[[ 3  0  5  0  7  0]\n",
      " [ 2  3  4  5  6  7]\n",
      " [ 0  0  0  0  0  8]\n",
      " [ 1  1 12 11 10  9]\n",
      " [ 1  1  1 12 11 10]]\n",
      "[[ 3  0  5  0  7  0]\n",
      " [ 2  3  4  5  6  7]\n",
      " [ 0  0  0  0  0  8]\n",
      " [ 1  1 12 11 10  9]\n",
      " [ 1  1 13 12 11 10]]\n",
      "[[ 3  0  5  0  7  0]\n",
      " [ 2  3  4  5  6  7]\n",
      " [ 0  0  0  0  0  8]\n",
      " [ 1 13 12 11 10  9]\n",
      " [ 1  1 13 12 11 10]]\n",
      "[[ 3  0  5  0  7  0]\n",
      " [ 2  3  4  5  6  7]\n",
      " [ 0  0  0  0  0  8]\n",
      " [ 1 13 12 11 10  9]\n",
      " [ 1 14 13 12 11 10]]\n",
      "[[ 3  0  5  0  7  0]\n",
      " [ 2  3  4  5  6  7]\n",
      " [ 0  0  0  0  0  8]\n",
      " [14 13 12 11 10  9]\n",
      " [ 1 14 13 12 11 10]]\n",
      "[[ 3  0  5  0  7  0]\n",
      " [ 2  3  4  5  6  7]\n",
      " [ 0  0  0  0  0  8]\n",
      " [14 13 12 11 10  9]\n",
      " [15 14 13 12 11 10]]\n",
      "10\n"
     ]
    }
   ],
   "source": [
    "from collections import deque\n",
    "import numpy as np\n",
    "n, m = map(int,input().split())\n",
    "\n",
    "maze = []\n",
    "for _ in range(n):\n",
    "    maze.append(list(map(int,input())))\n",
    "\n",
    "dx = [1, -1, 0, 0]\n",
    "dy = [0, 0, 1, -1]\n",
    "\n",
    "def bfs_maze(x,y):\n",
    "    \n",
    "    queue = deque([(x,y)])\n",
    "    \n",
    "    while queue:\n",
    "        x, y = queue.popleft()\n",
    "        for i in range(4):\n",
    "            nx = x + dx[i]\n",
    "            ny = y + dy[i]\n",
    "\n",
    "            if 0<=nx<n and 0<=ny<m and maze[nx][ny] == 1:\n",
    "                    maze[nx][ny] = maze[x][y] + 1\n",
    "                    print(np.array(maze))\n",
    "                    queue.append((nx,ny))\n",
    "    return maze[n-1][m-1]\n",
    "\n",
    "bfs_maze(0,0)\n",
    "print(bfs_maze(0,0))"
   ]
  },
  {
   "cell_type": "markdown",
   "metadata": {},
   "source": [
    "5 6\n",
    "101010\n",
    "111111\n",
    "000001\n",
    "111111\n",
    "111111"
   ]
  }
 ],
 "metadata": {
  "kernelspec": {
   "display_name": "Python 3",
   "language": "python",
   "name": "python3"
  },
  "language_info": {
   "codemirror_mode": {
    "name": "ipython",
    "version": 3
   },
   "file_extension": ".py",
   "mimetype": "text/x-python",
   "name": "python",
   "nbconvert_exporter": "python",
   "pygments_lexer": "ipython3",
   "version": "3.8.5"
  }
 },
 "nbformat": 4,
 "nbformat_minor": 4
}
