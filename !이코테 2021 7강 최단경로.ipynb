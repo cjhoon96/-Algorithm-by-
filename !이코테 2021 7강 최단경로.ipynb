{
 "cells": [
  {
   "cell_type": "markdown",
   "metadata": {},
   "source": [
    "# 최단 경로 알고리즘\n",
    "* ## 문제 상황\n",
    "    * ### 한 지점에서 다른 한 지점까지의 최단 경로\n",
    "    * ### 한 지점에서 다른 모든 지점까지의 최단 경로\n",
    "    * ### 모든 지점에서 다른 모든 지점까지의 최단 경로\n",
    "* ## 각 지점은 그래프에서 노드로 표현\n",
    "* ## 지점 간 연결된 도로는 그래프에서 간선으로 표현"
   ]
  },
  {
   "cell_type": "markdown",
   "metadata": {},
   "source": []
  },
  {
   "cell_type": "markdown",
   "metadata": {},
   "source": []
  },
  {
   "cell_type": "markdown",
   "metadata": {},
   "source": []
  },
  {
   "cell_type": "markdown",
   "metadata": {},
   "source": [
    "# 다익스트라 최단 경로 알고리즘"
   ]
  },
  {
   "cell_type": "markdown",
   "metadata": {},
   "source": [
    "* ## 특정한 노드에서 출발하여 다른 모든 노드로 가는 최단경로를 계산\n",
    "* ## 다익스트라 최단 경로 알고리즘은 음의 간선이 없을 때 정상적으로 동작\n",
    "    * ### 현실 세계의 도로(간선)은 음의 간선으로 표현되지 않음\n",
    "* ## 다익스트라 최단 경로 알고리즘은 그리디 알고리즘으로 분류됨\n",
    "    * ### 매 상황에서 가장 비용이 적은 노드를 선택해 임의의 과정을 반복"
   ]
  },
  {
   "cell_type": "markdown",
   "metadata": {},
   "source": []
  },
  {
   "cell_type": "markdown",
   "metadata": {},
   "source": [
    "* ## 동작 과정\n",
    "    ## 1. 출발 노드를 설정\n",
    "    ## 2. 최단 거리 테이블을 초기화\n",
    "    ## 3. 방문하지 않은 노드 중에서 **최단 거리가 가장 짧은 노드**를 선택  **(그리디)**\n",
    "    ## 4. 해당 노드를 거쳐 다른 노드로 가는 비용을 계산하여 최단 거리 테이블을 갱신\n",
    "    ## 5. 위 과정에서 3,4번을 반복"
   ]
  },
  {
   "cell_type": "markdown",
   "metadata": {},
   "source": [
    "* ## 알고리즘 동작 과정에서 최단 거리 테이블은 각 노드에 대한 현재까지의 최단 거리 정보를 가지고 있다.\n",
    "* ## 처리 과정에서 더 짧은 경로를 찾으면 '이제부터는 이 경로가 제일 짧은 경로임'을 갱신한다.\n"
   ]
  },
  {
   "cell_type": "markdown",
   "metadata": {},
   "source": [
    "* ## 초기설정\n",
    "    ### 출발 노드를 제외하고는 모든 거리 테이블을 **'무한'** 으로 설정\n",
    "* ## 방문처리\n",
    "    ### 방문하지 않은 노드중에서 **최단 거리가 가장 짧은 노드**를 선택하여 이를 방문처리 한다.\n",
    "    ### 이 경우 다른 곳을 거쳐서 오는 경로보다 더 짧다는 것은 자명하기 때문"
   ]
  },
  {
   "cell_type": "markdown",
   "metadata": {},
   "source": [
    "* ## 다익스트라 알고리즘을 수행한 뒤에 테이블에 각 노드까지의 최단 거리 정보가 저장된다.\n",
    "    * ### 완벽한 형태의 최단 경로를 구하려면 소스코드에 추가적인 기능을 더 넣어야 한다.\n",
    "    \n",
    "\n",
    "## 코드"
   ]
  },
  {
   "cell_type": "code",
   "execution_count": null,
   "metadata": {},
   "outputs": [],
   "source": [
    "import sys\n",
    "input = sys.stdin.readline\n",
    "INF = int(1e9) # 무한을 의미하는 값으로 10억 설정\n",
    "\n",
    "# 노드의 개수, 간선의 개수를 입력 받기\n",
    "n, m = map(int,input().split())\n",
    "# 시작 노드 번호를 입력 받기\n",
    "start = int(input())\n",
    "# 각 노드에 연결되어 있는 노드에 대한 정보를 담는 리스트 만들기\n",
    "graph = [[] for i in range(n + 1)]\n",
    "# 방문한 적이 있는지 체크하는 목적의 리스트를 만들기\n",
    "visit = [False for _ in range(n + 1)]\n",
    "# 최단 거리 테이블을 모두 무한으로 초기화\n",
    "dis = [INF for _ in range(n + 1)]\n",
    "\n",
    "# 모든 간선 정보를 입력 받기 \n",
    "for _ in range(m):\n",
    "    a, b, c = map(int,input().split())\n",
    "    # a 번 노드에서 b 번 노드로 가는 비용이 c\n",
    "    graph[a].append((b,c)) \n",
    "    \n",
    "# 방문하지 않은 노드 중에서, 가장 최단 거리가 짧은 노드의 번호를 반환\n",
    "def get_smallest_node():\n",
    "    min_value = INF\n",
    "    index = 0 # 가장 최단 거리가 짧은 노드 (인덱스)\n",
    "    for i in range(1, n + 1):\n",
    "        if dis[i] < min_value and not visit[i]:\n",
    "            min_value = dis[i]\n",
    "            index = i\n",
    "    return index\n",
    "\n",
    "# 다익스트라 알고리즘 함수\n",
    "def dijkstra(start):\n",
    "    # 시작 노드에 대해서 초기화\n",
    "    distance[start] = 0\n",
    "    visit[start] = True\n",
    "    for j in graph[start]:\n",
    "        dis[j[0]] = j[1]\n",
    "    # 시작 노드를 제외한 전체 n-1개의 노드에 대해 반복\n",
    "    for i in range(n - 1):\n",
    "        # 현재 최단 거리가 가장 짧은 노드를 꺼내서, 방문 처리\n",
    "        now = get_smallest_node()\n",
    "        visit[now] = True\n",
    "        # 현재 노드와 연결된 다른 노드를 확인\n",
    "        for j in graph[now]:\n",
    "            cost = dis[now] + j[1]\n",
    "            # 현재 노드를 거쳐서 다른 노드로 이동하는 거리가 더 짧은 경우\n",
    "            if cost < dis[j[0]]:\n",
    "                dis[j[0]] = cost\n",
    "\n",
    "# 다익스트라 알고리즘 수행\n",
    "dijkstra(start)\n",
    "\n",
    "# 모든 노드로 가기 위한 최단 거리를 출력\n",
    "for i in range(1, n + 1):\n",
    "    # 도달할 수 없는 경우, 무한(INFINITY)출력\n",
    "    if distance[i] == INF:\n",
    "        print(\"INFINITY\")\n",
    "    # 도달 할 수 있는 경우 거리를 출력\n",
    "    else:\n",
    "        print(dis[i])"
   ]
  },
  {
   "cell_type": "markdown",
   "metadata": {},
   "source": [
    "* ## 일반적으로 코딩 테스트의 최단 경로 문제에서 전체 노드의 개수가 5000개 이하라면 이 코드로 문제를 해결할 수 있다.\n",
    "    * ### 하지만 노드의 수가 10000개를 넘어간다면?\n",
    "    "
   ]
  },
  {
   "cell_type": "markdown",
   "metadata": {},
   "source": [
    "# 우선 순위 큐 (Priority Queue)\n",
    "* ### 우선 순위 큐는 우선 순위가 가장 높은 데이터를 가장 먼저 삭제하는 자료구조 이다.\n",
    "* ### 우선 순위 큐는 데이터를  우선 순위에 따라 처리하고 싶을 때 사용합니다.\n",
    "    ### (물건의 데이터를 자료구조에 넣었다가 가치가 높은 물건부터 꺼내서 확인해야 하는 경우)\n",
    "    "
   ]
  },
  {
   "cell_type": "markdown",
   "metadata": {},
   "source": [
    "## 구현하는 방법\n",
    "* ### 단순히 리스트를 이용하여 구현\n",
    "* ### 힙을 이용하여 구현\n",
    "\n",
    "## 데이터의 개수가 N개일 때, 구현 방식에 따라서 시간 복잡도를 비교한 내용은 다음과 같다\n",
    "* ### 리스트 \n",
    "### 삽입시간 : O(1) 삭제시간 : O(N)\n",
    "* ### 힙\n",
    "### 삽입시간 : O(1) 삭제시간 : O(N)\n",
    "## 단순히 N개의 데이터를 힙에 넣었다가 모두 꺼내는 작업은 정렬과 동일하다.(힙정렬)\n",
    "* ### 이 경우 시간 복잡도는 O(NlogN)이다."
   ]
  },
  {
   "cell_type": "markdown",
   "metadata": {},
   "source": [
    "## 힙의 특징\n",
    "* ### 힙은 완전 이진 트리 자료구조의 일종\n",
    "* ### 힙에서는 항상 루트 노드(root node)를 제거\n",
    "* ### **최소 힙(min heap)**\n",
    "    * #### 루트 노드가 가장 작은 값을 가진다.\n",
    "    * #### 따라서 값이 큰 데이터가 우선적으로 제거된다.\n",
    "* ### **최대 힙(max heap)**\n",
    "    * #### 루트 노드가 가장 큰 값을 가진다.\n",
    "    * #### 따라서 값이 큰 데이터가 우선적으로 제거된다."
   ]
  },
  {
   "cell_type": "markdown",
   "metadata": {},
   "source": [
    "* ## 다익스트라 최단 경로 알고리즘을 포함해 다양한 알고리즘에서 사용됨\n",
    "    ### ***(삽입과 삭제가 모두 O(logN))***"
   ]
  },
  {
   "cell_type": "markdown",
   "metadata": {},
   "source": [
    "* ## 최소 힙의 구현\n"
   ]
  },
  {
   "cell_type": "code",
   "execution_count": null,
   "metadata": {},
   "outputs": [],
   "source": [
    "import sys\n",
    "import heapq\n",
    "\n",
    "def heapsort(iterable):\n",
    "    h = []\n",
    "    result = []\n",
    "    # 모든 원소를 차례대로 힙에 삽입\n",
    "    for value in iterable:\n",
    "        heapq.heappush(h, value)\n",
    "    # 힙에 삽입된 모든 원소를 차례대로 꺼내어 담기\n",
    "    for i in range(len(h)):\n",
    "        result.append(heapq.heappop(h))\n",
    "    return result\n",
    "\n",
    "n = int(input())\n",
    "arr = []\n",
    "\n",
    "for i in range(n):\n",
    "    arr.append(int(input()))\n",
    "\n",
    "res = heapsort(arr)\n",
    "\n",
    "for i in range(n):\n",
    "    print(res[i])"
   ]
  },
  {
   "cell_type": "markdown",
   "metadata": {},
   "source": [
    "* ## 최대 힙의 구현"
   ]
  },
  {
   "cell_type": "code",
   "execution_count": 4,
   "metadata": {},
   "outputs": [
    {
     "name": "stdin",
     "output_type": "stream",
     "text": [
      " 9\n",
      " 0\n",
      " 1\n",
      " 3\n",
      " 2\n",
      " 4\n",
      " 5\n",
      " 6\n",
      " 7\n",
      " 8\n"
     ]
    },
    {
     "name": "stdout",
     "output_type": "stream",
     "text": [
      "8\n",
      "7\n",
      "6\n",
      "5\n",
      "4\n",
      "3\n",
      "2\n",
      "1\n",
      "0\n"
     ]
    }
   ],
   "source": [
    "import sys\n",
    "import heapq\n",
    "\n",
    "def heapsort(iterable):\n",
    "    h = []\n",
    "    result = []\n",
    "    # 모든 원소를 차례대로 힙에 삽입\n",
    "    for value in iterable:\n",
    "        heapq.heappush(h, -value)  # 마이너스로 입력\n",
    "    # 힙에 삽입된 모든 원소를 차례대로 꺼내어 담기\n",
    "    for i in range(len(h)):\n",
    "        result.append(-heapq.heappop(h)) # 마이너스로 출력\n",
    "    return result\n",
    "\n",
    "n = int(input())\n",
    "arr = []\n",
    "\n",
    "for i in range(n):\n",
    "    arr.append(int(input()))\n",
    "\n",
    "res = heapsort(arr)\n",
    "\n",
    "for i in range(n):\n",
    "    print(res[i])"
   ]
  },
  {
   "cell_type": "markdown",
   "metadata": {},
   "source": [
    "* ## 단계마다 방문하지 않은 노드 중에서 최단 거리가 가장 짧은 노드를 선택하기 위해 힙을 사용\n",
    "* ## 다익스트라 알고리즘이 동작하는 기본 원리는 동일\n",
    "    * ### 현재 가장 가까운 노드를 저장해 놓기 위해서 힙 자료구조를 추가적으로 이용한다는 점이 다름\n",
    "    * ### 현재의 최단 거리가 가장 짧은 노드를 선택해야 하므로 최소 힙을 사용\n",
    "    "
   ]
  },
  {
   "cell_type": "markdown",
   "metadata": {},
   "source": [
    "* ## 초기 설정\n",
    "    * ### 우선 순위 큐에 (0,1) (시작 지점의 길이, 시작 지점)을 저장한다."
   ]
  },
  {
   "cell_type": "markdown",
   "metadata": {},
   "source": [
    "## 다익스트라 알고리즘 (개선) 구현"
   ]
  },
  {
   "cell_type": "code",
   "execution_count": 5,
   "metadata": {},
   "outputs": [
    {
     "ename": "ValueError",
     "evalue": "not enough values to unpack (expected 2, got 0)",
     "output_type": "error",
     "traceback": [
      "\u001b[1;31m---------------------------------------------------------------------------\u001b[0m",
      "\u001b[1;31mValueError\u001b[0m                                Traceback (most recent call last)",
      "\u001b[1;32m<ipython-input-5-149d936cbe13>\u001b[0m in \u001b[0;36m<module>\u001b[1;34m\u001b[0m\n\u001b[0;32m      4\u001b[0m \u001b[1;33m\u001b[0m\u001b[0m\n\u001b[0;32m      5\u001b[0m \u001b[1;31m# 노드의 개수, 간선의 개수를 입력 받기\u001b[0m\u001b[1;33m\u001b[0m\u001b[1;33m\u001b[0m\u001b[1;33m\u001b[0m\u001b[0m\n\u001b[1;32m----> 6\u001b[1;33m \u001b[0mn\u001b[0m\u001b[1;33m,\u001b[0m \u001b[0mm\u001b[0m \u001b[1;33m=\u001b[0m \u001b[0mmap\u001b[0m\u001b[1;33m(\u001b[0m\u001b[0mint\u001b[0m\u001b[1;33m,\u001b[0m\u001b[0minput\u001b[0m\u001b[1;33m(\u001b[0m\u001b[1;33m)\u001b[0m\u001b[1;33m.\u001b[0m\u001b[0msplit\u001b[0m\u001b[1;33m(\u001b[0m\u001b[1;33m)\u001b[0m\u001b[1;33m)\u001b[0m\u001b[1;33m\u001b[0m\u001b[1;33m\u001b[0m\u001b[0m\n\u001b[0m\u001b[0;32m      7\u001b[0m \u001b[1;31m# 시작 노드 번호를 입력 받기\u001b[0m\u001b[1;33m\u001b[0m\u001b[1;33m\u001b[0m\u001b[1;33m\u001b[0m\u001b[0m\n\u001b[0;32m      8\u001b[0m \u001b[0mstart\u001b[0m \u001b[1;33m=\u001b[0m \u001b[0mint\u001b[0m\u001b[1;33m(\u001b[0m\u001b[0minput\u001b[0m\u001b[1;33m(\u001b[0m\u001b[1;33m)\u001b[0m\u001b[1;33m)\u001b[0m\u001b[1;33m\u001b[0m\u001b[1;33m\u001b[0m\u001b[0m\n",
      "\u001b[1;31mValueError\u001b[0m: not enough values to unpack (expected 2, got 0)"
     ]
    }
   ],
   "source": [
    "import sys\n",
    "input = sys.stdin.readline\n",
    "INF = int(1e9) # 무한을 의미하는 값으로 10억 설정\n",
    "\n",
    "# 노드의 개수, 간선의 개수를 입력 받기\n",
    "n, m = map(int,input().split())\n",
    "# 시작 노드 번호를 입력 받기\n",
    "start = int(input())\n",
    "# 각 노드에 연결되어 있는 노드에 대한 정보를 담는 리스트 만들기\n",
    "graph = [[] for i in range(n + 1)]\n",
    "# 최단 거리 테이블을 모두 무한으로 초기화\n",
    "dis = [INF for _ in range(n + 1)]\n",
    "\n",
    "# 모든 간선 정보를 입력 받기 \n",
    "for _ in range(m):\n",
    "    a, b, c = map(int,input().split())\n",
    "    # a 번 노드에서 b 번 노드로 가는 비용이 c\n",
    "    graph[a].append((b,c)) \n",
    "\n",
    "def dijkstra(start):\n",
    "    q = []\n",
    "    hepq.heappush(q, (0,start))\n",
    "    dis[start] = 0\n",
    "    while q:\n",
    "        # 가장 최단 거리가 짧은 노드에 대한 정보 꺼내기\n",
    "        dis, now = heapq.heappop(q)\n",
    "        # 현재 노드가 이미 처리된 적이 있는 노드라면 무시 \n",
    "        if dis[now] < dist:\n",
    "            continue\n",
    "        # 현재 노드와 연결된 다른 인접한 노드들을 확인\n",
    "        for i in graph[now]:\n",
    "            cost = dist + i[1]\n",
    "            # 현재 노드를 거쳐서, 다른 노드로 이동하는 거리가 더 짧은 경우\n",
    "            if cost < dis[i[0]]:\n",
    "                dis[i[0]] = cost\n",
    "                heapq.heappush(q, (cost, i[0]))\n",
    "\n",
    "# 다익스트라 알고리즘을 수행\n",
    "dijkstra(start)\n",
    "\n",
    "# 모든 노드로 가기 위한 최단 거리를 출력\n",
    "for i in range(1, n + 1):\n",
    "    # 도달할 수 없는 경우, 무한(INFINITY)출력\n",
    "    if distance[i] == INF:\n",
    "        print(\"INFINITY\")\n",
    "    # 도달 할 수 있는 경우 거리를 출력\n",
    "    else:\n",
    "        print(dis[i])"
   ]
  },
  {
   "cell_type": "markdown",
   "metadata": {},
   "source": []
  },
  {
   "cell_type": "markdown",
   "metadata": {},
   "source": []
  },
  {
   "cell_type": "markdown",
   "metadata": {},
   "source": []
  },
  {
   "cell_type": "markdown",
   "metadata": {},
   "source": []
  },
  {
   "cell_type": "markdown",
   "metadata": {},
   "source": []
  },
  {
   "cell_type": "markdown",
   "metadata": {},
   "source": []
  },
  {
   "cell_type": "markdown",
   "metadata": {},
   "source": []
  },
  {
   "cell_type": "markdown",
   "metadata": {},
   "source": []
  },
  {
   "cell_type": "markdown",
   "metadata": {},
   "source": []
  },
  {
   "cell_type": "markdown",
   "metadata": {},
   "source": []
  },
  {
   "cell_type": "markdown",
   "metadata": {},
   "source": [
    "# 플로이드 워셜 알고리즘\n",
    "* ## 모든 노드에서 다른 모든 노드까지의 최단 경로를 모두 계산\n",
    "* ## 플로이드 워셜 알고리즘은 다익스트라 알고리즘과 마찬가지로 단계별로 거쳐가는 노드를 기준으로 알고리즘을 수행\n",
    "    * ### 다만 매 단계마다 방문하지 않은 노드 중에 최단 거리를 갖는 노드를 찾는 과정이 필요하지 않음\n",
    "* ## 플로이드 워셜은 2차원 테이블에 최단 거리 정보를 저장\n",
    "* ## 플로이드 워셜 알고리즘은 ***다이나믹 프로그래밍*** 유형에 속함"
   ]
  },
  {
   "cell_type": "code",
   "execution_count": null,
   "metadata": {},
   "outputs": [],
   "source": [
    "INF = int(1e9)\n",
    "\n",
    "# 노드의 개수 및 간선의 개수를 입력받기\n",
    "n = int(input())\n",
    "m = int(input())\n",
    "# 2차원 리스트(그래프 표현)를 만들고, 무한으로 초기화\n",
    "graph = [[INF for _ in range(n+1)] for _ in range(n+1)]\n",
    "\n",
    "# 자기 자신에서 자기 자신으로 가는 비용은 0 으로 초기화\n",
    "for a in range(1, n + 1):\n",
    "    for b in range(1, n + 1):\n",
    "        if a == b:\n",
    "            graph[a][b] = 0\n",
    "\n",
    "# 각 간선에 대한 정보를 입력 받아, 그 값으로 초기화\n",
    "for _ in range(m):\n",
    "    # A에서 B로 가는 비용은 C라고 설정\n",
    "    a, b, c = map(int,input().split())\n",
    "    graph[a][b] = c\n",
    "\n",
    "# 점화식에 따라 플로이드 워셜 알고리즘을 수행\n",
    "for k in range(1, n + 1):\n",
    "    for a in range(1, n + 1):\n",
    "        for b in range(1, n + 1):\n",
    "            graph[a][b] = min(graph[a][b], graph[a][k] + graph[k][b])\n",
    "\n",
    "# 수행된 결과를 출력\n",
    "for a in range(1, n + 1):\n",
    "    for b in range(1, n + 1):\n",
    "        # 도달할 수 없는 경우, 무한(INFINITY)출력\n",
    "        if graph[a][b] == INF:\n",
    "            print(\"INFINITY\")\n",
    "        # 도달 할 수 있는 경우 거리를 출력\n",
    "        else:\n",
    "            print(graph[a][b])"
   ]
  }
 ],
 "metadata": {
  "kernelspec": {
   "display_name": "Python 3",
   "language": "python",
   "name": "python3"
  },
  "language_info": {
   "codemirror_mode": {
    "name": "ipython",
    "version": 3
   },
   "file_extension": ".py",
   "mimetype": "text/x-python",
   "name": "python",
   "nbconvert_exporter": "python",
   "pygments_lexer": "ipython3",
   "version": "3.8.5"
  }
 },
 "nbformat": 4,
 "nbformat_minor": 4
}
