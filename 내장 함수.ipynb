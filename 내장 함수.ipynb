{
 "cells": [
  {
   "cell_type": "markdown",
   "metadata": {},
   "source": [
    "# 내장 함수"
   ]
  },
  {
   "cell_type": "code",
   "execution_count": 2,
   "metadata": {},
   "outputs": [
    {
     "name": "stdout",
     "output_type": "stream",
     "text": [
      "10\n",
      "\n",
      "1\n",
      "\n",
      "4\n",
      "\n",
      "56\n"
     ]
    }
   ],
   "source": [
    "print(sum([1,2,3,4]))\n",
    "\n",
    "print()\n",
    "\n",
    "print(min([1,2,3,4]))\n",
    "\n",
    "print()\n",
    "\n",
    "print(max([1,2,3,4]))\n",
    "\n",
    "print()\n",
    "\n",
    "print(eval(\"(3+5)*7\"))   ## 문자열 안의 연산자를 계산"
   ]
  }
 ],
 "metadata": {
  "kernelspec": {
   "display_name": "Python 3",
   "language": "python",
   "name": "python3"
  },
  "language_info": {
   "codemirror_mode": {
    "name": "ipython",
    "version": 3
   },
   "file_extension": ".py",
   "mimetype": "text/x-python",
   "name": "python",
   "nbconvert_exporter": "python",
   "pygments_lexer": "ipython3",
   "version": "3.8.5"
  }
 },
 "nbformat": 4,
 "nbformat_minor": 4
}
