{
 "cells": [
  {
   "cell_type": "markdown",
   "metadata": {},
   "source": [
    "# 코테에서 많이 쓰이는 리스트 함수"
   ]
  },
  {
   "cell_type": "markdown",
   "metadata": {},
   "source": [
    "### a.append(k) &nbsp;&nbsp;&nbsp;&nbsp;&nbsp;a에 k 삽입        O(1)\n",
    "\n",
    "### a.sort() &nbsp;&nbsp;&nbsp;&nbsp;&nbsp;a를 오름 차순     \n",
    "### a.sort(reverse = True) &nbsp;&nbsp;&nbsp;&nbsp;&nbsp;a를 내림 차순     O(N*logN)\n",
    "\n",
    "### a.reverse() &nbsp;&nbsp;&nbsp;&nbsp;&nbsp;a를 뒤집음        O(N)\n",
    "\n",
    "### a.insert(idx,k) &nbsp;&nbsp;&nbsp;&nbsp;&nbsp;a의 idx에 k 삽입  O(N)\n",
    "\n",
    "### a.count(k) &nbsp;&nbsp;&nbsp;&nbsp;&nbsp;a안의 k 카운트    O(N)\n",
    "\n",
    "### a.remove(k) &nbsp;&nbsp;&nbsp;&nbsp;&nbsp;a안의 k 삭제      O(N)"
   ]
  },
  {
   "cell_type": "code",
   "execution_count": 5,
   "metadata": {},
   "outputs": [
    {
     "name": "stdout",
     "output_type": "stream",
     "text": [
      "[('이순신', 32), ('홍길동', 70), ('아무개', 74)]\n"
     ]
    }
   ],
   "source": [
    "array=[('홍길동',70),('이순신',32),('아무개',74)]\n",
    "print(sorted(array, key=lambda x: x[1]))"
   ]
  },
  {
   "cell_type": "code",
   "execution_count": null,
   "metadata": {},
   "outputs": [],
   "source": []
  },
  {
   "cell_type": "markdown",
   "metadata": {},
   "source": [
    "# 튜플은 리스트보다 공간 효율적이다"
   ]
  },
  {
   "cell_type": "markdown",
   "metadata": {},
   "source": [
    "## 튜플은 언제 사용하면 좋을까?\n",
    "### * 서로 다른 성질의 데이터를 묶어서 관리해야 할때\n",
    "    * 최단 경로 알고리즘에서는 (비용, 노드 번호)의 형태로 튜플 자료형을 자주 사용\n",
    "### * 데이터의 나열을 해싱(Hashing)의 키 값으로 사용해야 할때\n",
    "    * 튜플은 변경이 불가능하므로 리스트와 다르게 키값으로 사용될 수 있음\n",
    "### * 리스트보다 메모리를 효율적으로 사용해야 할때"
   ]
  },
  {
   "cell_type": "code",
   "execution_count": null,
   "metadata": {},
   "outputs": [],
   "source": []
  },
  {
   "cell_type": "code",
   "execution_count": null,
   "metadata": {},
   "outputs": [],
   "source": []
  },
  {
   "cell_type": "markdown",
   "metadata": {},
   "source": [
    "# 코테에서 많이 쓰이는 사전 함수\n"
   ]
  },
  {
   "cell_type": "markdown",
   "metadata": {},
   "source": [
    "### a.keys() &nbsp;&nbsp;&nbsp;&nbsp;&nbsp;a의 key값 리스트\n",
    "### a.values() &nbsp;&nbsp;&nbsp;&nbsp;&nbsp;a의 value값 리스트"
   ]
  },
  {
   "cell_type": "markdown",
   "metadata": {},
   "source": [
    "## 사전 자료형은 언제 사용하면 좋을까?\n",
    "### * 사전 자료형은  해시테이블을 사용하므로 데이터의 조회 및 수정에 있어서 O(1)의 시간에 처리할 수 있다\n",
    "\n",
    "\n"
   ]
  }
 ],
 "metadata": {
  "kernelspec": {
   "display_name": "Python 3",
   "language": "python",
   "name": "python3"
  },
  "language_info": {
   "codemirror_mode": {
    "name": "ipython",
    "version": 3
   },
   "file_extension": ".py",
   "mimetype": "text/x-python",
   "name": "python",
   "nbconvert_exporter": "python",
   "pygments_lexer": "ipython3",
   "version": "3.8.5"
  }
 },
 "nbformat": 4,
 "nbformat_minor": 4
}
