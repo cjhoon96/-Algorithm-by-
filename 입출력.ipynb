{
 "cells": [
  {
   "cell_type": "markdown",
   "metadata": {},
   "source": [
    "# 입력"
   ]
  },
  {
   "cell_type": "markdown",
   "metadata": {},
   "source": [
    "### input() &nbsp;&nbsp;&nbsp;&nbsp;&nbsp;한줄의 문자열을 입력 받는 함수\n",
    "### map(f, input().split()) &nbsp;&nbsp;&nbsp;&nbsp;&nbsp;리스트의 모든 원소에 각각 특정한 함수를 적용할때 사용\n",
    "### sys.stdin.readline() &nbsp;&nbsp;&nbsp;&nbsp;&nbsp;입력을 빠르게 받아야 할 경우 (입력후 엔터를 줄바꿈 기호로 입력되므로 rstrip() 으로 제거)"
   ]
  },
  {
   "cell_type": "markdown",
   "metadata": {},
   "source": [
    "# 출력"
   ]
  },
  {
   "cell_type": "markdown",
   "metadata": {},
   "source": [
    "### print(a, end='')  end를 통해 출력후 마지막 을 바꿀 수 있음 (기본값: 엔터)"
   ]
  },
  {
   "cell_type": "markdown",
   "metadata": {},
   "source": [
    "### f-string\n",
    "### print(f'아러아러아러 {}')  f로 시작하고 중괄호 안에 변수명을 입력하여 문자열과 함께 출력 가능"
   ]
  }
 ],
 "metadata": {
  "kernelspec": {
   "display_name": "Python 3",
   "language": "python",
   "name": "python3"
  },
  "language_info": {
   "codemirror_mode": {
    "name": "ipython",
    "version": 3
   },
   "file_extension": ".py",
   "mimetype": "text/x-python",
   "name": "python",
   "nbconvert_exporter": "python",
   "pygments_lexer": "ipython3",
   "version": "3.8.5"
  }
 },
 "nbformat": 4,
 "nbformat_minor": 4
}
