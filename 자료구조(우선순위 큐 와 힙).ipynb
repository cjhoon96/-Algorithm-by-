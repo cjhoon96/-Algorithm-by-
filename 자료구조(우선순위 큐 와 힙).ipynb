{
 "cells": [
  {
   "cell_type": "markdown",
   "metadata": {},
   "source": [
    "## 자료구조\n",
    "## 스택 : 가장 나중에 삽입된 데이터 추출\n",
    "## 큐 : 가장 먼저 삽입된 데이터 추출\n",
    "## 우선순위 큐 : 가장 우선 순위가 높은 데이터 추출\n"
   ]
  },
  {
   "cell_type": "markdown",
   "metadata": {},
   "source": [
    "# 우선 순위 큐 (Priority Queue)\n",
    "* ### 우선 순위 큐는 우선 순위가 가장 높은 데이터를 가장 먼저 삭제하는 자료구조 이다.\n",
    "* ### 우선 순위 큐는 데이터를  우선 순위에 따라 처리하고 싶을 때 사용합니다.\n",
    "    ### (물건의 데이터를 자료구조에 넣었다가 가치가 높은 물건부터 꺼내서 확인해야 하는 경우)\n",
    "    "
   ]
  },
  {
   "cell_type": "markdown",
   "metadata": {},
   "source": []
  },
  {
   "cell_type": "markdown",
   "metadata": {},
   "source": [
    "## 구현하는 방법\n",
    "* ### 단순히 리스트를 이용하여 구현\n",
    "* ### 힙을 이용하여 구현\n",
    "\n",
    "## 데이터의 개수가 N개일 때, 구현 방식에 따라서 시간 복잡도를 비교한 내용은 다음과 같다\n",
    "* ### 리스트 \n",
    "### 삽입시간 : O(1) 삭제시간 : O(N)\n",
    "* ### 힙\n",
    "### 삽입시간 : O(1) 삭제시간 : O(N)\n",
    "## 단순히 N개의 데이터를 힙에 넣었다가 모두 꺼내는 작업은 정렬과 동일하다.(힙정렬)\n",
    "* ### 이 경우 시간 복잡도는 O(NlogN)이다."
   ]
  },
  {
   "cell_type": "markdown",
   "metadata": {},
   "source": []
  },
  {
   "cell_type": "markdown",
   "metadata": {},
   "source": [
    "## 힙의 특징\n",
    "* ### 힙은 완전 이진 트리 자료구조의 일종\n",
    "* ### 힙에서는 항상 루트 노드(root node)를 제거\n",
    "* ### **최소 힙(min heap)**\n",
    "    * #### 루트 노드가 가장 작은 값을 가진다.\n",
    "    * #### 따라서 값이 큰 데이터가 우선적으로 제거된다.\n",
    "* ### **최대 힙(max heap)**\n",
    "    * #### 루트 노드가 가장 큰 값을 가진다.\n",
    "    * #### 따라서 값이 큰 데이터가 우선적으로 제거된다."
   ]
  },
  {
   "cell_type": "markdown",
   "metadata": {},
   "source": []
  },
  {
   "cell_type": "markdown",
   "metadata": {},
   "source": [
    "## 우선순위 큐 라이브러리를 활용한 힙 정렬 구현 예제(python)"
   ]
  },
  {
   "cell_type": "code",
   "execution_count": 2,
   "metadata": {},
   "outputs": [
    {
     "name": "stdin",
     "output_type": "stream",
     "text": [
      " 10\n",
      " 8\n",
      " 4\n",
      " 6\n",
      " 5\n",
      " 7\n",
      " 1\n",
      " 2\n",
      " 3\n",
      " 10\n",
      " 9\n"
     ]
    },
    {
     "name": "stdout",
     "output_type": "stream",
     "text": [
      "1\n",
      "2\n",
      "3\n",
      "4\n",
      "5\n",
      "6\n",
      "7\n",
      "8\n",
      "9\n",
      "10\n"
     ]
    }
   ],
   "source": [
    "import sys\n",
    "import heapq\n",
    "\n",
    "def heapsort(iterable):\n",
    "    h = []\n",
    "    result = []\n",
    "    # 모든 원소를 차례대로 힙에 삽입\n",
    "    for value in iterable:\n",
    "        heapq.heappush(h, value)\n",
    "    # 힙에 삽입된 모든 원소를 차례대로 꺼내어 담기\n",
    "    for i in range(len(h)):\n",
    "        result.append(heapq.heappop(h))\n",
    "    return result\n",
    "\n",
    "n = int(input())\n",
    "arr = []\n",
    "\n",
    "for i in range(n):\n",
    "    arr.append(int(input()))\n",
    "\n",
    "res = heapsort(arr)\n",
    "\n",
    "for i in range(n):\n",
    "    print(res[i])"
   ]
  },
  {
   "cell_type": "code",
   "execution_count": null,
   "metadata": {},
   "outputs": [],
   "source": []
  }
 ],
 "metadata": {
  "kernelspec": {
   "display_name": "Python 3",
   "language": "python",
   "name": "python3"
  },
  "language_info": {
   "codemirror_mode": {
    "name": "ipython",
    "version": 3
   },
   "file_extension": ".py",
   "mimetype": "text/x-python",
   "name": "python",
   "nbconvert_exporter": "python",
   "pygments_lexer": "ipython3",
   "version": "3.8.5"
  }
 },
 "nbformat": 4,
 "nbformat_minor": 4
}
