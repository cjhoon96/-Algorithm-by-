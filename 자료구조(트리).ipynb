{
 "cells": [
  {
   "cell_type": "markdown",
   "metadata": {},
   "source": [
    "# **트리**\n",
    "## 트리는 가계도와 같은 **계층적인 구조**로 표현할 때 사용할 수 있는 자료구조이다.\n",
    "\n",
    "## [트리 관련 용어]\n",
    "* ### 루트 노드 (root node) : 부모가 없는 최상위 노드\n",
    "* ### 단물 노드 (leaf noed) : 자식이 없는 노드\n",
    "* ### 크기 (size) : 트리에 포함된 모든 노드의 개수\n",
    "* ### 깊이 (depth) : 루트 노드부터의 거리\n",
    "* ### 높이 (height) : 깊이 중 최댓값\n",
    "* ### 차수 (degree) : 각 노드의 (자식방향) 간선 개수\n",
    "\n",
    "## 기본적으로 트리의 크기가 N일때, 전체 간선의 개수는 N-1개 이다."
   ]
  },
  {
   "cell_type": "markdown",
   "metadata": {},
   "source": []
  },
  {
   "cell_type": "markdown",
   "metadata": {},
   "source": []
  },
  {
   "cell_type": "markdown",
   "metadata": {},
   "source": []
  },
  {
   "cell_type": "markdown",
   "metadata": {},
   "source": [
    "# **이진 탐색 트리 (Binary Search Tree)**\n",
    "## 이진 탐색이 동작할 수 있도록 고안된 효율적인 탐색이 가능한 자료 구조의 일종\n",
    "## 이진 탐색 트리의 특징: **왼쪽 자식 노드 < 부모노드 < 오른쪽 자식 노드**\n",
    "* ### 부모 노드보다 왼쪽 자식 노드가 작다.\n",
    "* ### 부모 노드보다 오른쪽 자식 노드가 크다."
   ]
  },
  {
   "cell_type": "markdown",
   "metadata": {},
   "source": []
  },
  {
   "cell_type": "markdown",
   "metadata": {},
   "source": [
    "## **이진 탐색 트리의 데이터 조회 과정**\n",
    "* ## 루트 노드부터 방문하여 탐색을 진행\n",
    "* ## 현재 노드와 찾는 원소 30과 37을 비교\n",
    "* ## 찾는 원소가 더 크므로 오른쪽 방문\n",
    "## &nbsp;&nbsp;&nbsp;&nbsp;&nbsp;&nbsp;&nbsp;**30**   &nbsp;&nbsp;&nbsp;&nbsp;&nbsp;&nbsp;&nbsp;&nbsp;&nbsp;&nbsp;&nbsp;&nbsp;&nbsp;&nbsp;&nbsp;&nbsp;&nbsp;&nbsp;&nbsp;&nbsp;&nbsp;&nbsp;&nbsp;30    \n",
    "## &nbsp;&nbsp;&nbsp;17&nbsp;&nbsp;&nbsp;&nbsp;&nbsp;&nbsp;48    &nbsp;&nbsp;&nbsp;&nbsp;&nbsp;&nbsp;&nbsp;&nbsp;&nbsp;&nbsp;&nbsp;&nbsp;&nbsp;17&nbsp;&nbsp;&nbsp;&nbsp;&nbsp;&nbsp;**48**  \n",
    "## 5&nbsp;&nbsp;23&nbsp;&nbsp;37&nbsp;&nbsp;59 &nbsp;&nbsp;&nbsp;&nbsp;&nbsp;&nbsp;5&nbsp;&nbsp;23&nbsp;&nbsp;37&nbsp;&nbsp;59 \n",
    "\n",
    "* ## 현재 노드와 찾는 원소 48과 37을 비교\n",
    "* ## 찾는 원소가 더 작으므로 왼쪽 방문\n",
    "## &nbsp;&nbsp;&nbsp;&nbsp;&nbsp;&nbsp;&nbsp;30  &nbsp;&nbsp;&nbsp;&nbsp;&nbsp;&nbsp;&nbsp;&nbsp;&nbsp;&nbsp;&nbsp;&nbsp;&nbsp;&nbsp;&nbsp;&nbsp;&nbsp;&nbsp;&nbsp;&nbsp;&nbsp;&nbsp;&nbsp;30    \n",
    "## &nbsp;&nbsp;&nbsp;17&nbsp;&nbsp;&nbsp;&nbsp;&nbsp;&nbsp;**48**    &nbsp;&nbsp;&nbsp;&nbsp;&nbsp;&nbsp;&nbsp;&nbsp;&nbsp;&nbsp;&nbsp;&nbsp;&nbsp;17&nbsp;&nbsp;&nbsp;&nbsp;&nbsp;&nbsp;48  \n",
    "## 5&nbsp;&nbsp;23&nbsp;&nbsp;37&nbsp;&nbsp;59 &nbsp;&nbsp;&nbsp;&nbsp;&nbsp;&nbsp;5&nbsp;&nbsp;23&nbsp;&nbsp;**37**&nbsp;&nbsp;59 \n",
    "\n",
    "* ## 원소를 찾았으므로 탐색을 종료"
   ]
  },
  {
   "cell_type": "markdown",
   "metadata": {},
   "source": []
  },
  {
   "cell_type": "markdown",
   "metadata": {},
   "source": [
    "## **트리의 순회 (Tree Traversal)**\n",
    "* ### 트리 자료구조에 포함된 노드를 특정한 방법으로 한 번씩 방문하는 방법을 의미한다.\n",
    "    * ### 트리의 정보를 시각적으로 확인할 수 있다.\n",
    "* ### **대표적인 트리 순회 방법**은 다음과 같다.\n",
    "    * ### **전위 순회 (pre_order traverse) :** 루트를 먼저 방문\n",
    "    * ### **중위 순회 (in-order traverse) :** 왼쪽 자식을 방문한 뒤에 루트를 방문\n",
    "    * ### **후위 순회 (post-order traverse) :** 오른쪽 자식을 방문한 뒤 루트를 방문\n",
    "    \n",
    "## &nbsp;&nbsp;&nbsp;&nbsp;&nbsp;&nbsp;A     \n",
    "## &nbsp;&nbsp;&nbsp;B&nbsp;&nbsp;&nbsp;&nbsp;C\n",
    "## D&nbsp;&nbsp;E&nbsp;&nbsp;F&nbsp;&nbsp;G\n",
    "* ### **전위 순회 (pre-order traverse) :** A B D E C F G\n",
    "* ### **중위 순회 (in-order traverse) :** D B E A F C G\n",
    "* ### **후위 순회 (post-order traverse) :** D E B F G C A"
   ]
  },
  {
   "cell_type": "markdown",
   "metadata": {},
   "source": []
  },
  {
   "cell_type": "markdown",
   "metadata": {},
   "source": []
  },
  {
   "cell_type": "markdown",
   "metadata": {},
   "source": [
    "## **트리의 순회(Tree Traversal) 구현 예제**"
   ]
  },
  {
   "cell_type": "code",
   "execution_count": 8,
   "metadata": {},
   "outputs": [
    {
     "name": "stdin",
     "output_type": "stream",
     "text": [
      " 7\n",
      " A B C\n",
      " B D E\n",
      " C F G\n",
      " D None None\n",
      " E None None\n",
      " F None None\n",
      " G None None\n"
     ]
    },
    {
     "name": "stdout",
     "output_type": "stream",
     "text": [
      "{'A': <__main__.Node object at 0x000001BADB484D90>, 'B': <__main__.Node object at 0x000001BADB4793A0>, 'C': <__main__.Node object at 0x000001BADB479130>, 'D': <__main__.Node object at 0x000001BADB479370>, 'E': <__main__.Node object at 0x000001BADB567550>, 'F': <__main__.Node object at 0x000001BADB5675E0>, 'G': <__main__.Node object at 0x000001BADB567940>}\n",
      "A B D E F C G \n",
      "B D E A F C G \n",
      "B D E F C G A "
     ]
    }
   ],
   "source": [
    "class Node:\n",
    "    def __init__(self, data, left_node, right_node):\n",
    "        self.data = data\n",
    "        self.left_node = left_node\n",
    "        self.right_node = right_node\n",
    "\n",
    "# 전위 순회 (pre_order traverse)\n",
    "def pre_order(node):\n",
    "    print( node.data, end = ' ')\n",
    "    \n",
    "    if node.left_node != None:\n",
    "        pre_order(tree[node.left_node])\n",
    "   \n",
    "    if node.right_node != None:\n",
    "        pre_order(tree[node.right_node])\n",
    "\n",
    "        \n",
    "        \n",
    "# 중위 순회 (in-order traverse)\n",
    "def in_order(node):\n",
    "    if node.left_node != None:\n",
    "        in_order(tree[node.left_node])\n",
    "    \n",
    "    print(node.data, end = ' ')\n",
    "    \n",
    "    if node.right_node != None:\n",
    "        in_order(tree[node.right_node])\n",
    "        \n",
    "        \n",
    "        \n",
    "# 후위 순회 (post-order traverse)\n",
    "def post_order(node):\n",
    "    if node.left_node != None:\n",
    "        post_order(tree[node.left_node])\n",
    "    \n",
    "    if node.right_node != None:\n",
    "        post_order(tree[node.right_node])\n",
    "    print(node.data, end = ' ')\n",
    "\n",
    "    \n",
    "    \n",
    "\n",
    "    \n",
    "n = int(input())\n",
    "tree = {}\n",
    "\n",
    "for i in range(n):\n",
    "    data, left_node, right_node = input().split()\n",
    "    if left_node == 'None':\n",
    "        left_node = None\n",
    "    if right_node == 'None':\n",
    "        right_node = None\n",
    "    tree[data] = Node(data, left_node, right_node)\n",
    "\n",
    "print(tree)\n",
    "\n",
    "pre_order(tree['A'])\n",
    "print()\n",
    "in_order(tree['A'])\n",
    "print()\n",
    "post_order(tree['A'])\n"
   ]
  },
  {
   "cell_type": "markdown",
   "metadata": {},
   "source": [
    "## **입력 예시**\n",
    "### 7\n",
    "### A B C\n",
    "### B D E\n",
    "### C F G\n",
    "### D None None\n",
    "### E None None\n",
    "### F None None\n",
    "### G None None\n"
   ]
  }
 ],
 "metadata": {
  "kernelspec": {
   "display_name": "Python 3",
   "language": "python",
   "name": "python3"
  },
  "language_info": {
   "codemirror_mode": {
    "name": "ipython",
    "version": 3
   },
   "file_extension": ".py",
   "mimetype": "text/x-python",
   "name": "python",
   "nbconvert_exporter": "python",
   "pygments_lexer": "ipython3",
   "version": "3.8.5"
  }
 },
 "nbformat": 4,
 "nbformat_minor": 4
}
